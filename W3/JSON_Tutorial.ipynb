{
 "cells": [
  {
   "cell_type": "code",
   "execution_count": 5,
   "metadata": {
    "collapsed": false
   },
   "outputs": [],
   "source": [
    "import urllib\n",
    "import json\n",
    "import matplotlib.pyplot as plt\n",
    "import re\n",
    "%matplotlib inline"
   ]
  },
  {
   "cell_type": "code",
   "execution_count": 6,
   "metadata": {
    "collapsed": false
   },
   "outputs": [],
   "source": [
    "resp = urllib.request.urlopen('http://data.rcc-acis.org/StnMeta?county=41039').read()"
   ]
  },
  {
   "cell_type": "code",
   "execution_count": 7,
   "metadata": {
    "collapsed": false
   },
   "outputs": [
    {
     "data": {
      "text/plain": [
       "{'elev': 2503.0,\n",
       " 'll': [-123.61667, 43.26667],\n",
       " 'name': 'BAUGHMAN LOOKOUT',\n",
       " 'sids': ['350547 2'],\n",
       " 'state': 'OR',\n",
       " 'uid': 15077}"
      ]
     },
     "execution_count": 7,
     "metadata": {},
     "output_type": "execute_result"
    }
   ],
   "source": [
    "stationJson = json.loads(resp)['meta']\n",
    "stationJson[0]"
   ]
  },
  {
   "cell_type": "code",
   "execution_count": 24,
   "metadata": {
    "collapsed": false
   },
   "outputs": [
    {
     "data": {
      "text/plain": [
       "{'elev': 353.0,\n",
       " 'll': [-123.22056, 44.12778],\n",
       " 'name': 'EUGENE MAHLON SWEET AP',\n",
       " 'sids': ['24221 1',\n",
       "  '352709 2',\n",
       "  'EUG 3',\n",
       "  '72693 4',\n",
       "  'KEUG 5',\n",
       "  'USW00024221 6',\n",
       "  'EUG 7'],\n",
       " 'state': 'OR',\n",
       " 'uid': 15218}"
      ]
     },
     "execution_count": 24,
     "metadata": {},
     "output_type": "execute_result"
    }
   ],
   "source": [
    "eugStation = [s for s in stationJson if re.match('(?i)Eugene MAHLON', s['name']) != None][0]\n",
    "eugStation"
   ]
  },
  {
   "cell_type": "code",
   "execution_count": 25,
   "metadata": {
    "collapsed": false
   },
   "outputs": [
    {
     "data": {
      "text/plain": [
       "'24221 1'"
      ]
     },
     "execution_count": 25,
     "metadata": {},
     "output_type": "execute_result"
    }
   ],
   "source": [
    "sid = eugStation['sids'][0]\n",
    "sid"
   ]
  },
  {
   "cell_type": "code",
   "execution_count": 26,
   "metadata": {
    "collapsed": false
   },
   "outputs": [
    {
     "data": {
      "text/plain": [
       "[['2010-01-02', '40', '51'],\n",
       " ['2010-01-03', '39', '49'],\n",
       " ['2010-01-04', '39', '56'],\n",
       " ['2010-01-05', '50', '57']]"
      ]
     },
     "execution_count": 26,
     "metadata": {},
     "output_type": "execute_result"
    }
   ],
   "source": [
    "url = ('http://data.rcc-acis.org/StnData?sid=%s&sdate=2010-01-01&edate=2016-12-31&elems=mint,maxt' % sid).replace(' ','+')\n",
    "resp = urllib.request.urlopen(url).read()\n",
    "weatherData=json.loads(resp)['data']\n",
    "weatherData[1:5]"
   ]
  },
  {
   "cell_type": "code",
   "execution_count": 28,
   "metadata": {
    "collapsed": false
   },
   "outputs": [
    {
     "data": {
      "image/png": "[encoded data removed]",
      "text/plain": [
       "<matplotlib.figure.Figure at 0x4f3dbd9358>"
      ]
     },
     "metadata": {},
     "output_type": "display_data"
    }
   ],
   "source": [
    "minT = [float(w[1]) for w in weatherData]\n",
    "maxT = [float(w[2]) for w in weatherData]\n",
    "plt.plot(minT,'b')\n",
    "plt.plot(maxT,'r')\n",
    "plt.show()"
   ]
  },
  {
   "cell_type": "code",
   "execution_count": null,
   "metadata": {
    "collapsed": true
   },
   "outputs": [],
   "source": []
  }
 ],
 "metadata": {
  "kernelspec": {
   "display_name": "Python 3",
   "language": "python",
   "name": "python3"
  },
  "language_info": {
   "codemirror_mode": {
    "name": "ipython",
    "version": 3
   },
   "file_extension": ".py",
   "mimetype": "text/x-python",
   "name": "python",
   "nbconvert_exporter": "python",
   "pygments_lexer": "ipython3",
   "version": "3.6.0"
  }
 },
 "nbformat": 4,
 "nbformat_minor": 2
}
