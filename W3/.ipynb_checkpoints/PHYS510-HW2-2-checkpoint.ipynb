{
 "cells": [
  {
   "cell_type": "code",
   "execution_count": 1,
   "metadata": {
    "collapsed": true
   },
   "outputs": [],
   "source": [
    "import urllib\n",
    "import json\n",
    "import pandas as pd\n",
    "import numpy as np\n",
    "import matplotlib.pyplot as plt\n",
    "%matplotlib inline"
   ]
  },
  {
   "cell_type": "code",
   "execution_count": 10,
   "metadata": {
    "collapsed": false
   },
   "outputs": [
    {
     "data": {
      "image/png": "[encoded data removed]",
      "text/plain": [
       "<matplotlib.figure.Figure at 0xe57333d320>"
      ]
     },
     "metadata": {},
     "output_type": "display_data"
    }
   ],
   "source": [
    "# pull data\n",
    "resp = urllib.request.urlopen('http://data.rcc-acis.org/MultiStnData?state=OR,WA&date=2008-07-04&elems=maxt,mint').read()\n",
    "stationJson = json.loads(resp)['data']\n",
    "\n",
    "# build dataframe for data\n",
    "lat = []\n",
    "long = []\n",
    "maxt = []\n",
    "for j in range(len(stationJson)):\n",
    "    if list(stationJson[j]['meta'].keys())[1]=='ll':\n",
    "        long.append(stationJson[j]['meta']['ll'][0])\n",
    "        lat.append(stationJson[j]['meta']['ll'][1])\n",
    "        maxt.append(stationJson[j]['data'][0])\n",
    "df = pd.DataFrame(list(zip(*[lat, long, maxt])), columns=['lat', 'long', 'maxt'])\n",
    "\n",
    "# Clean up data: get rid of non-number temperatures, round lat's and long's\n",
    "df['maxt'] = pd.to_numeric(df['maxt'], errors='coerce')\n",
    "df = df[df['maxt'] > 0]\n",
    "df['lat'] = df['lat'].round(1)\n",
    "df['long'] = df['long'].round(1)\n",
    "\n",
    "# Create arrays for 'heat map'\n",
    "lat_arr = np.arange(min(np.floor(lat)),max(np.floor(lat)),0.3)\n",
    "long_arr = np.arange(min(np.floor(long)),max(np.floor(long)),0.3)\n",
    "t_arr = np.zeros((len(long_arr), len(lat_arr)))\n",
    "t_arr_n = np.zeros((len(long_arr), len(lat_arr)))\n",
    "t_arr_avg = np.zeros((len(long_arr), len(lat_arr)))\n",
    "\n",
    "for i in range(len(df)):\n",
    "    x_index = np.where(np.isclose(df['long'].iloc[i], long_arr, atol=0.15))[0]\n",
    "    y_index = np.where(np.isclose(df['lat'].iloc[i], lat_arr, atol=0.15))[0]\n",
    "    if (len(x_index) > 0) & (len(y_index) > 0):\n",
    "        t_arr[x_index[0], y_index[0]] += df['maxt'].iloc[i]\n",
    "        t_arr_n [x_index[0], y_index[0]] += 1.\n",
    "\n",
    "for i in range(len(long_arr)):\n",
    "    for j in range(len(lat_arr)):\n",
    "        if t_arr[i,j] > 0:\n",
    "            t_arr_avg[i,j] = t_arr[i,j] / t_arr_n[i,j]\n",
    "\n",
    "plt.figure(figsize=(10,6))\n",
    "plt.pcolor(long_arr, lat_arr, np.transpose(t_arr_avg))\n",
    "plt.xticks(size=16)\n",
    "plt.yticks(size=16)\n",
    "plt.title('Max temperature heat-map', size=20)\n",
    "plt.xlabel('Longitude', size=16)\n",
    "plt.ylabel('Latitude', size=16)\n",
    "plt.colorbar()\n",
    "plt.show()"
   ]
  },
  {
   "cell_type": "code",
   "execution_count": 11,
   "metadata": {
    "collapsed": false
   },
   "outputs": [],
   "source": [
    "import numpy, scipy.io\n",
    "\n",
    "scipy.io.savemat('t_arr_avg.mat', mdict={'arr': np.transpose(t_arr_avg)})"
   ]
  },
  {
   "cell_type": "code",
   "execution_count": null,
   "metadata": {
    "collapsed": true
   },
   "outputs": [],
   "source": [
    "from netCDF4 import Dataset\n",
    "from numpy import arange, dtype\n",
    "\n",
    "# the output array to write will be nx x ny\n",
    "nx = 600; ny = 1200\n",
    "# open a new netCDF file for writing.\n",
    "ncfile = Dataset('maxt.nc','w') \n",
    "# create the output data.\n",
    "data_out = arange(nx*ny) # 1d array\n",
    "data_out.shape = (nx,ny) # reshape to 2d array\n",
    "# create the x and y dimensions.\n",
    "ncfile.createDimension('x',nx)\n",
    "ncfile.createDimension('y',ny)\n",
    "# create the variable (4 byte integer in this case)\n",
    "# first argument is name of variable, second is datatype, third is\n",
    "# a tuple with the names of dimensions.\n",
    "data = ncfile.createVariable('data',dtype('int32').char,('x','y'))\n",
    "# write data to variable.\n",
    "data[:] = data_out\n",
    "# close the file.\n",
    "ncfile.close()\n",
    "# print '*** SUCCESS writing example file simple_xy.nc!'\n"
   ]
  },
  {
   "cell_type": "code",
   "execution_count": null,
   "metadata": {
    "collapsed": true
   },
   "outputs": [],
   "source": []
  }
 ],
 "metadata": {
  "kernelspec": {
   "display_name": "Python 3",
   "language": "python",
   "name": "python3"
  },
  "language_info": {
   "codemirror_mode": {
    "name": "ipython",
    "version": 3
   },
   "file_extension": ".py",
   "mimetype": "text/x-python",
   "name": "python",
   "nbconvert_exporter": "python",
   "pygments_lexer": "ipython3",
   "version": "3.6.0"
  }
 },
 "nbformat": 4,
 "nbformat_minor": 2
}
