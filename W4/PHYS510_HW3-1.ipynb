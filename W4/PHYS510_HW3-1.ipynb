{
 "cells": [
  {
   "cell_type": "markdown",
   "metadata": {},
   "source": [
    "# PHYS510: McDonalds store locations\n",
    "### By Philippe Nguyen"
   ]
  },
  {
   "cell_type": "code",
   "execution_count": 5,
   "metadata": {
    "collapsed": true
   },
   "outputs": [],
   "source": [
    "import csv\n",
    "import pandas as pd\n",
    "import numpy as np\n",
    "import matplotlib.pyplot as plt\n",
    "import matplotlib.path as mplPath\n",
    "import matplotlib.patches as patches\n",
    "%matplotlib inline"
   ]
  },
  {
   "cell_type": "code",
   "execution_count": 2,
   "metadata": {
    "collapsed": true
   },
   "outputs": [],
   "source": [
    "with open('mcD.txt') as f:\n",
    "    reader = csv.reader(f, delimiter='\\t')\n",
    "    d = list(reader)\n",
    "ll_full = pd.DataFrame(d, columns=['long', 'lat'])\n",
    "\n",
    "# Convert str to float\n",
    "for index, row in ll_full.iterrows():\n",
    "    ll_full.loc[index,'long'] = float(row[0])\n",
    "    ll_full.loc[index,'lat'] = float(row[1])"
   ]
  },
  {
   "cell_type": "code",
   "execution_count": 10,
   "metadata": {
    "collapsed": true
   },
   "outputs": [],
   "source": [
    "def heat_map(x,y,xbin=50,ybin=50):\n",
    "    \"\"\"Give me x and y positions, and a number of bins for each dim, and I spit out a density array for those bins.\"\"\"\n",
    "    x_arr=np.array(x)\n",
    "    y_arr=np.array(y)\n",
    "\n",
    "    # Loop over data points\n",
    "#     density_x, x_bins = np.histogram(x_arr, xbin)\n",
    "#     density_y, y_bins = np.histogram(y_arr, ybin)\n",
    "#     density = np.outer(density_y, density_x)\n",
    "    density, xbins, ybins = np.histogram2d()\n",
    "    \n",
    "    # Return density array and x,y bin arrays\n",
    "    return density, x_bins, y_bins"
   ]
  },
  {
   "cell_type": "code",
   "execution_count": 14,
   "metadata": {
    "collapsed": false
   },
   "outputs": [
    {
     "data": {
      "image/png": "[encoded data removed]",
      "text/plain": [
       "<matplotlib.figure.Figure at 0x344994be80>"
      ]
     },
     "metadata": {},
     "output_type": "display_data"
    }
   ],
   "source": [
    "n_long_bins = int((max(ll_full['long']) - min(ll_full['long']))/0.01)\n",
    "n_lat_bins = int((max(ll_full['lat']) - min(ll_full['lat']))/0.01)\n",
    "density_full, long_full_bins, lat_full_bins = heat_map(ll_full['long'], ll_full['lat'], 90, 50)\n",
    "\n",
    "plt.figure(figsize=(15,8))\n",
    "plt.pcolor(long_full_bins, lat_full_bins, density_full)\n",
    "plt.title('McDonalds heat map, with {}x{} bins'.format(len(long_full_bins),len(lat_full_bins)) , size=20)\n",
    "plt.axis('equal')\n",
    "plt.axis('off')\n",
    "plt.show()"
   ]
  }
 ],
 "metadata": {
  "kernelspec": {
   "display_name": "Python 3",
   "language": "python",
   "name": "python3"
  },
  "language_info": {
   "codemirror_mode": {
    "name": "ipython",
    "version": 3
   },
   "file_extension": ".py",
   "mimetype": "text/x-python",
   "name": "python",
   "nbconvert_exporter": "python",
   "pygments_lexer": "ipython3",
   "version": "3.6.0"
  }
 },
 "nbformat": 4,
 "nbformat_minor": 2
}
